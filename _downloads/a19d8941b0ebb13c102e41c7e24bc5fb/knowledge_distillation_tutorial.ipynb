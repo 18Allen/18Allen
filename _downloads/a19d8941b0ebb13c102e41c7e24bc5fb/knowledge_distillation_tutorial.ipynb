{
  "cells": [
    {
      "cell_type": "code",
      "execution_count": 2,
      "metadata": {
        "id": "wt3sBA6ne7pl"
      },
      "outputs": [],
      "source": [
        "# For tips on running notebooks in Google Colab, see\n",
        "# https://pytorch.org/tutorials/beginner/colab\n",
        "%matplotlib inline"
      ]
    },
    {
      "cell_type": "markdown",
      "metadata": {
        "id": "b59VMC71e7pm"
      },
      "source": [
        "Knowledge Distillation Tutorial\n",
        "===============================\n",
        "\n",
        "**Author**: [Alexandros Chariton](https://github.com/AlexandrosChrtn)\n"
      ]
    },
    {
      "cell_type": "markdown",
      "metadata": {
        "id": "EE6HLxxKe7pm"
      },
      "source": [
        "Knowledge distillation is a technique that enables knowledge transfer\n",
        "from large, computationally expensive models to smaller ones without\n",
        "losing validity. This allows for deployment on less powerful hardware,\n",
        "making evaluation faster and more efficient.\n",
        "\n",
        "In this tutorial, we will run a number of experiments focused at\n",
        "improving the accuracy of a lightweight neural network, using a more\n",
        "powerful network as a teacher. The computational cost and the speed of\n",
        "the lightweight network will remain unaffected, our intervention only\n",
        "focuses on its weights, not on its forward pass. Applications of this\n",
        "technology can be found in devices such as drones or mobile phones. In\n",
        "this tutorial, we do not use any external packages as everything we need\n",
        "is available in `torch` and `torchvision`.\n",
        "\n",
        "In this tutorial, you will learn:\n",
        "\n",
        "-   How to modify model classes to extract hidden representations and\n",
        "    use them for further calculations\n",
        "-   How to modify regular train loops in PyTorch to include additional\n",
        "    losses on top of, for example, cross-entropy for classification\n",
        "-   How to improve the performance of lightweight models by using more\n",
        "    complex models as teachers\n",
        "\n",
        "Prerequisites\n",
        "=============\n",
        "\n",
        "-   1 GPU, 4GB of memory\n",
        "-   PyTorch v2.0 or later\n",
        "-   CIFAR-10 dataset (downloaded by the script and saved in a directory\n",
        "    called `/data`)\n"
      ]
    },
    {
      "cell_type": "code",
      "execution_count": 1,
      "metadata": {
        "id": "CbRBp1Pxe7pn",
        "outputId": "2e64ed67-dc6c-49dc-eb31-ed86be372481",
        "colab": {
          "base_uri": "https://localhost:8080/"
        }
      },
      "outputs": [
        {
          "output_type": "stream",
          "name": "stdout",
          "text": [
            "Using cuda device\n"
          ]
        }
      ],
      "source": [
        "import torch\n",
        "import torch.nn as nn\n",
        "import torch.optim as optim\n",
        "import torchvision.transforms as transforms\n",
        "import torchvision.datasets as datasets\n",
        "\n",
        "# Check if the current `accelerator <https://pytorch.org/docs/stable/torch.html#accelerators>`__\n",
        "# is available, and if not, use the CPU\n",
        "device = torch.accelerator.current_accelerator().type if torch.accelerator.is_available() else \"cpu\"\n",
        "print(f\"Using {device} device\")"
      ]
    },
    {
      "cell_type": "markdown",
      "metadata": {
        "id": "W9AnzqxUe7pn"
      },
      "source": [
        "Loading CIFAR-10\n",
        "================\n",
        "\n",
        "CIFAR-10 is a popular image dataset with ten classes. Our objective is\n",
        "to predict one of the following classes for each input image.\n",
        "\n",
        "![Example of CIFAR-10\n",
        "images](https://pytorch.org/tutorials//../_static/img/cifar10.png){.align-center}\n",
        "\n",
        "The input images are RGB, so they have 3 channels and are 32x32 pixels.\n",
        "Basically, each image is described by 3 x 32 x 32 = 3072 numbers ranging\n",
        "from 0 to 255. A common practice in neural networks is to normalize the\n",
        "input, which is done for multiple reasons, including avoiding saturation\n",
        "in commonly used activation functions and increasing numerical\n",
        "stability. Our normalization process consists of subtracting the mean\n",
        "and dividing by the standard deviation along each channel. The tensors\n",
        "\\\"mean=\\[0.485, 0.456, 0.406\\]\\\" and \\\"std=\\[0.229, 0.224, 0.225\\]\\\"\n",
        "were already computed, and they represent the mean and standard\n",
        "deviation of each channel in the predefined subset of CIFAR-10 intended\n",
        "to be the training set. Notice how we use these values for the test set\n",
        "as well, without recomputing the mean and standard deviation from\n",
        "scratch. This is because the network was trained on features produced by\n",
        "subtracting and dividing the numbers above, and we want to maintain\n",
        "consistency. Furthermore, in real life, we would not be able to compute\n",
        "the mean and standard deviation of the test set since, under our\n",
        "assumptions, this data would not be accessible at that point.\n",
        "\n",
        "As a closing point, we often refer to this held-out set as the\n",
        "validation set, and we use a separate set, called the test set, after\n",
        "optimizing a model\\'s performance on the validation set. This is done to\n",
        "avoid selecting a model based on the greedy and biased optimization of a\n",
        "single metric.\n"
      ]
    },
    {
      "cell_type": "code",
      "execution_count": 3,
      "metadata": {
        "id": "H8_buObHe7pn",
        "outputId": "78b21242-c385-4ced-dfc5-e579f1e24875",
        "colab": {
          "base_uri": "https://localhost:8080/"
        }
      },
      "outputs": [
        {
          "output_type": "stream",
          "name": "stderr",
          "text": [
            "100%|██████████| 170M/170M [00:05<00:00, 29.2MB/s]\n"
          ]
        }
      ],
      "source": [
        "# Below we are preprocessing data for CIFAR-10. We use an arbitrary batch size of 128.\n",
        "transforms_cifar = transforms.Compose([\n",
        "    transforms.ToTensor(),\n",
        "    transforms.Normalize(mean=[0.485, 0.456, 0.406], std=[0.229, 0.224, 0.225]),\n",
        "])\n",
        "\n",
        "# Loading the CIFAR-10 dataset:\n",
        "train_dataset = datasets.CIFAR10(root='./data', train=True, download=True, transform=transforms_cifar)\n",
        "test_dataset = datasets.CIFAR10(root='./data', train=False, download=True, transform=transforms_cifar)"
      ]
    },
    {
      "cell_type": "markdown",
      "metadata": {
        "id": "VBQsFaVje7pn"
      },
      "source": [
        "<div style=\"background-color: #54c7ec; color: #fff; font-weight: 700; padding-left: 10px; padding-top: 5px; padding-bottom: 5px\"><strong>NOTE:</strong></div>\n",
        "\n",
        "<div style=\"background-color: #f3f4f7; padding-left: 10px; padding-top: 10px; padding-bottom: 10px; padding-right: 10px\">\n",
        "\n",
        "<p>This section is for CPU users only who are interested in quick results. Use this option only if you're interested in a small scale experiment. Keep in mind the code should run fairly quickly using any GPU. Select only the first <code>num_images_to_keep</code> images from the train/test dataset<pre><code>#from torch.utils.data import Subset</p>\n",
        "<h1>num_images_to_keep = 2000</h1>\n",
        "<h1>train_dataset = Subset(train_dataset, range(min(num_images_to_keep, 50_000)))</h1>\n",
        "<h1>test_dataset = Subset(test_dataset, range(min(num_images_to_keep, 10_000)))</code></pre></h1>\n",
        "```\n",
        "\n",
        "</div>\n",
        "\n"
      ]
    },
    {
      "cell_type": "code",
      "execution_count": 4,
      "metadata": {
        "id": "XWUaosFfe7pn"
      },
      "outputs": [],
      "source": [
        "#Dataloaders\n",
        "train_loader = torch.utils.data.DataLoader(train_dataset, batch_size=128, shuffle=True, num_workers=2)\n",
        "test_loader = torch.utils.data.DataLoader(test_dataset, batch_size=128, shuffle=False, num_workers=2)"
      ]
    },
    {
      "cell_type": "markdown",
      "metadata": {
        "id": "bsLEIzfVe7pn"
      },
      "source": [
        "Defining model classes and utility functions\n",
        "============================================\n",
        "\n",
        "Next, we need to define our model classes. Several user-defined\n",
        "parameters need to be set here. We use two different architectures,\n",
        "keeping the number of filters fixed across our experiments to ensure\n",
        "fair comparisons. Both architectures are Convolutional Neural Networks\n",
        "(CNNs) with a different number of convolutional layers that serve as\n",
        "feature extractors, followed by a classifier with 10 classes. The number\n",
        "of filters and neurons is smaller for the students.\n"
      ]
    },
    {
      "cell_type": "code",
      "execution_count": 5,
      "metadata": {
        "id": "YFORrpMCe7pn"
      },
      "outputs": [],
      "source": [
        "# Deeper neural network class to be used as teacher:\n",
        "class DeepNN(nn.Module):\n",
        "    def __init__(self, num_classes=10):\n",
        "        super(DeepNN, self).__init__()\n",
        "        self.features = nn.Sequential(\n",
        "            nn.Conv2d(3, 128, kernel_size=3, padding=1),\n",
        "            nn.ReLU(),\n",
        "            nn.Conv2d(128, 64, kernel_size=3, padding=1),\n",
        "            nn.ReLU(),\n",
        "            nn.MaxPool2d(kernel_size=2, stride=2),\n",
        "            nn.Conv2d(64, 64, kernel_size=3, padding=1),\n",
        "            nn.ReLU(),\n",
        "            nn.Conv2d(64, 32, kernel_size=3, padding=1),\n",
        "            nn.ReLU(),\n",
        "            nn.MaxPool2d(kernel_size=2, stride=2),\n",
        "        )\n",
        "        self.classifier = nn.Sequential(\n",
        "            nn.Linear(2048, 512),\n",
        "            nn.ReLU(),\n",
        "            nn.Dropout(0.1),\n",
        "            nn.Linear(512, num_classes)\n",
        "        )\n",
        "\n",
        "    def forward(self, x):\n",
        "        x = self.features(x)\n",
        "        x = torch.flatten(x, 1)\n",
        "        x = self.classifier(x)\n",
        "        return x\n",
        "\n",
        "# Lightweight neural network class to be used as student:\n",
        "class LightNN(nn.Module):\n",
        "    def __init__(self, num_classes=10):\n",
        "        super(LightNN, self).__init__()\n",
        "        self.features = nn.Sequential(\n",
        "            nn.Conv2d(3, 16, kernel_size=3, padding=1),\n",
        "            nn.ReLU(),\n",
        "            nn.MaxPool2d(kernel_size=2, stride=2),\n",
        "            nn.Conv2d(16, 16, kernel_size=3, padding=1),\n",
        "            nn.ReLU(),\n",
        "            nn.MaxPool2d(kernel_size=2, stride=2),\n",
        "        )\n",
        "        self.classifier = nn.Sequential(\n",
        "            nn.Linear(1024, 256),\n",
        "            nn.ReLU(),\n",
        "            nn.Dropout(0.1),\n",
        "            nn.Linear(256, num_classes)\n",
        "        )\n",
        "\n",
        "    def forward(self, x):\n",
        "        x = self.features(x)\n",
        "        x = torch.flatten(x, 1)\n",
        "        x = self.classifier(x)\n",
        "        return x"
      ]
    },
    {
      "cell_type": "markdown",
      "metadata": {
        "id": "XZ96sn75e7po"
      },
      "source": [
        "We employ 2 functions to help us produce and evaluate the results on our\n",
        "original classification task. One function is called `train` and takes\n",
        "the following arguments:\n",
        "\n",
        "-   `model`: A model instance to train (update its weights) via this\n",
        "    function.\n",
        "-   `train_loader`: We defined our `train_loader` above, and its job is\n",
        "    to feed the data into the model.\n",
        "-   `epochs`: How many times we loop over the dataset.\n",
        "-   `learning_rate`: The learning rate determines how large our steps\n",
        "    towards convergence should be. Too large or too small steps can be\n",
        "    detrimental.\n",
        "-   `device`: Determines the device to run the workload on. Can be\n",
        "    either CPU or GPU depending on availability.\n",
        "\n",
        "Our test function is similar, but it will be invoked with `test_loader`\n",
        "to load images from the test set.\n",
        "\n",
        "![Train both networks with Cross-Entropy. The student will be used as a\n",
        "baseline:](https://pytorch.org/tutorials//../_static/img/knowledge_distillation/ce_only.png){.align-center}\n"
      ]
    },
    {
      "cell_type": "code",
      "execution_count": 7,
      "metadata": {
        "id": "TpGj4WxKe7po"
      },
      "outputs": [],
      "source": [
        "def train(model, train_loader, epochs, learning_rate, device):\n",
        "    criterion = nn.CrossEntropyLoss()\n",
        "    optimizer = optim.Adam(model.parameters(), lr=learning_rate)\n",
        "\n",
        "    model.train()\n",
        "\n",
        "    for epoch in range(epochs):\n",
        "        running_loss = 0.0\n",
        "        for inputs, labels in train_loader:\n",
        "            # inputs: A collection of batch_size images\n",
        "            # labels: A vector of dimensionality batch_size with integers denoting class of each image\n",
        "            inputs, labels = inputs.to(device), labels.to(device)\n",
        "\n",
        "            optimizer.zero_grad()\n",
        "            outputs = model(inputs)\n",
        "\n",
        "            # outputs: Output of the network for the collection of images. A tensor of dimensionality batch_size x num_classes\n",
        "            # labels: The actual labels of the images. Vector of dimensionality batch_size\n",
        "            loss = criterion(outputs, labels)\n",
        "            loss.backward()\n",
        "            optimizer.step()\n",
        "\n",
        "            running_loss += loss.item()\n",
        "\n",
        "        print(f\"Epoch {epoch+1}/{epochs}, Loss: {running_loss / len(train_loader)}\")\n",
        "\n",
        "def test(model, test_loader, device):\n",
        "    model.to(device)\n",
        "    model.eval()\n",
        "\n",
        "    correct = 0\n",
        "    total = 0\n",
        "\n",
        "    with torch.no_grad():\n",
        "        for inputs, labels in test_loader:\n",
        "            inputs, labels = inputs.to(device), labels.to(device)\n",
        "\n",
        "            outputs = model(inputs)\n",
        "            _, predicted = torch.max(outputs.data, 1)\n",
        "\n",
        "            total += labels.size(0)\n",
        "            correct += (predicted == labels).sum().item()\n",
        "\n",
        "    accuracy = 100 * correct / total\n",
        "    print(f\"Test Accuracy: {accuracy:.2f}%\")\n",
        "    return accuracy"
      ]
    },
    {
      "cell_type": "markdown",
      "metadata": {
        "id": "PztKWpcge7po"
      },
      "source": [
        "Cross-entropy runs\n",
        "==================\n",
        "\n",
        "For reproducibility, we need to set the torch manual seed. We train\n",
        "networks using different methods, so to compare them fairly, it makes\n",
        "sense to initialize the networks with the same weights. Start by\n",
        "training the teacher network using cross-entropy:\n"
      ]
    },
    {
      "cell_type": "code",
      "execution_count": 28,
      "metadata": {
        "id": "RPJT95LQe7po",
        "outputId": "99235743-0ed8-43d9-b37e-79268c6638cc",
        "colab": {
          "base_uri": "https://localhost:8080/"
        }
      },
      "outputs": [
        {
          "output_type": "stream",
          "name": "stdout",
          "text": [
            "Epoch 1/10, Loss: 1.3315\n",
            "Epoch 2/10, Loss: 0.8654\n",
            "Epoch 3/10, Loss: 0.6846\n",
            "Epoch 4/10, Loss: 0.5438\n",
            "Epoch 5/10, Loss: 0.4277\n",
            "Epoch 6/10, Loss: 0.3190\n",
            "Epoch 7/10, Loss: 0.2328\n",
            "Epoch 8/10, Loss: 0.1801\n",
            "Epoch 9/10, Loss: 0.1385\n",
            "Epoch 10/10, Loss: 0.1256\n",
            "Test Accuracy: 75.69%\n"
          ]
        }
      ],
      "source": [
        "torch.manual_seed(42)\n",
        "nn_deep = DeepNN(num_classes=10).to(device)\n",
        "train(nn_deep, train_loader, epochs=10, learning_rate=0.001, device=device)\n",
        "test_accuracy_deep = test(nn_deep, test_loader, device)\n",
        "\n",
        "# Instantiate the lightweight network:\n",
        "torch.manual_seed(42)\n",
        "nn_light = LightNN(num_classes=10).to(device)"
      ]
    },
    {
      "cell_type": "code",
      "source": [
        "# Save the model\n",
        "torch.save(nn_deep.state_dict(), \"deepnn_state_dict.pth\")"
      ],
      "metadata": {
        "id": "vGdcyB7bm8Fx"
      },
      "execution_count": 32,
      "outputs": []
    },
    {
      "cell_type": "code",
      "source": [
        "nn_deep = DeepNN(num_classes=10).to(device)\n",
        "nn_deep.load_state_dict(torch.load(\"deepnn_state_dict.pth\"))\n"
      ],
      "metadata": {
        "id": "QgHMLovPsFxL",
        "outputId": "065fa11f-4e57-4783-8552-ccc954155b68",
        "colab": {
          "base_uri": "https://localhost:8080/"
        }
      },
      "execution_count": 22,
      "outputs": [
        {
          "output_type": "execute_result",
          "data": {
            "text/plain": [
              "<All keys matched successfully>"
            ]
          },
          "metadata": {},
          "execution_count": 22
        }
      ]
    },
    {
      "cell_type": "code",
      "source": [
        "test_accuracy_deep = test(nn_deep, test_loader, device)\n"
      ],
      "metadata": {
        "id": "ziS2mzKqsR_v",
        "outputId": "37e8ea49-7d1e-427b-e908-55fe9ecc6d3d",
        "colab": {
          "base_uri": "https://localhost:8080/"
        }
      },
      "execution_count": 23,
      "outputs": [
        {
          "output_type": "stream",
          "name": "stdout",
          "text": [
            "Test Accuracy: 74.69%\n"
          ]
        }
      ]
    },
    {
      "cell_type": "markdown",
      "metadata": {
        "id": "JvqOC5-ne7po"
      },
      "source": [
        "We instantiate one more lightweight network model to compare their\n",
        "performances. Back propagation is sensitive to weight initialization, so\n",
        "we need to make sure these two networks have the exact same\n",
        "initialization.\n"
      ]
    },
    {
      "cell_type": "code",
      "execution_count": 9,
      "metadata": {
        "id": "Y7qe6ab8e7po"
      },
      "outputs": [],
      "source": [
        "torch.manual_seed(42)\n",
        "new_nn_light = LightNN(num_classes=10).to(device)"
      ]
    },
    {
      "cell_type": "markdown",
      "metadata": {
        "id": "PTIMenwMe7po"
      },
      "source": [
        "To ensure we have created a copy of the first network, we inspect the\n",
        "norm of its first layer. If it matches, then we are safe to conclude\n",
        "that the networks are indeed the same.\n"
      ]
    },
    {
      "cell_type": "code",
      "execution_count": 10,
      "metadata": {
        "id": "DDGJV556e7po",
        "outputId": "9ad23607-def8-4871-b621-4ff8d92346fc",
        "colab": {
          "base_uri": "https://localhost:8080/"
        }
      },
      "outputs": [
        {
          "output_type": "stream",
          "name": "stdout",
          "text": [
            "Norm of 1st layer of nn_light: 2.327361822128296\n",
            "Norm of 1st layer of new_nn_light: 2.327361822128296\n"
          ]
        }
      ],
      "source": [
        "# Print the norm of the first layer of the initial lightweight model\n",
        "print(\"Norm of 1st layer of nn_light:\", torch.norm(nn_light.features[0].weight).item())\n",
        "# Print the norm of the first layer of the new lightweight model\n",
        "print(\"Norm of 1st layer of new_nn_light:\", torch.norm(new_nn_light.features[0].weight).item())"
      ]
    },
    {
      "cell_type": "markdown",
      "metadata": {
        "id": "QhKYkdl6e7po"
      },
      "source": [
        "Print the total number of parameters in each model:\n"
      ]
    },
    {
      "cell_type": "code",
      "execution_count": 11,
      "metadata": {
        "id": "b8f7PWk9e7po",
        "outputId": "223226ce-4286-492a-db48-916cb834c0c2",
        "colab": {
          "base_uri": "https://localhost:8080/"
        }
      },
      "outputs": [
        {
          "output_type": "stream",
          "name": "stdout",
          "text": [
            "DeepNN parameters: 1,186,986\n",
            "LightNN parameters: 267,738\n"
          ]
        }
      ],
      "source": [
        "total_params_deep = \"{:,}\".format(sum(p.numel() for p in nn_deep.parameters()))\n",
        "print(f\"DeepNN parameters: {total_params_deep}\")\n",
        "total_params_light = \"{:,}\".format(sum(p.numel() for p in nn_light.parameters()))\n",
        "print(f\"LightNN parameters: {total_params_light}\")"
      ]
    },
    {
      "cell_type": "markdown",
      "metadata": {
        "id": "R8q6B56ne7po"
      },
      "source": [
        "Train and test the lightweight network with cross entropy loss:\n"
      ]
    },
    {
      "cell_type": "code",
      "execution_count": 12,
      "metadata": {
        "id": "sUlACQ4Be7po",
        "outputId": "ede124a2-a8d5-44a1-c9fc-409de63d25a6",
        "colab": {
          "base_uri": "https://localhost:8080/"
        }
      },
      "outputs": [
        {
          "output_type": "stream",
          "name": "stdout",
          "text": [
            "Epoch 1/10, Loss: 1.4591180250772735\n",
            "Epoch 2/10, Loss: 1.1508304775523408\n",
            "Epoch 3/10, Loss: 1.0211140293904277\n",
            "Epoch 4/10, Loss: 0.9257420406622046\n",
            "Epoch 5/10, Loss: 0.8497451241973721\n",
            "Epoch 6/10, Loss: 0.7829224599901673\n",
            "Epoch 7/10, Loss: 0.7149976584917445\n",
            "Epoch 8/10, Loss: 0.658251344547857\n",
            "Epoch 9/10, Loss: 0.6082006259190152\n",
            "Epoch 10/10, Loss: 0.5529454486906681\n",
            "Test Accuracy: 69.62%\n"
          ]
        }
      ],
      "source": [
        "train(nn_light, train_loader, epochs=10, learning_rate=0.001, device=device)\n",
        "test_accuracy_light_ce = test(nn_light, test_loader, device)"
      ]
    },
    {
      "cell_type": "markdown",
      "metadata": {
        "id": "8Zt982Eze7pp"
      },
      "source": [
        "As we can see, based on test accuracy, we can now compare the deeper\n",
        "network that is to be used as a teacher with the lightweight network\n",
        "that is our supposed student. So far, our student has not intervened\n",
        "with the teacher, therefore this performance is achieved by the student\n",
        "itself. The metrics so far can be seen with the following lines:\n"
      ]
    },
    {
      "cell_type": "code",
      "source": [
        "# Save\n",
        "torch.save(nn_light.state_dict(), \"lightnn_state_dict.pth\")"
      ],
      "metadata": {
        "id": "YNI_MhbcnN52"
      },
      "execution_count": 33,
      "outputs": []
    },
    {
      "cell_type": "code",
      "execution_count": 13,
      "metadata": {
        "id": "8Cv8yLnxe7pp",
        "outputId": "52bad53d-c292-4a95-e5b7-5f63a5363e27",
        "colab": {
          "base_uri": "https://localhost:8080/"
        }
      },
      "outputs": [
        {
          "output_type": "stream",
          "name": "stdout",
          "text": [
            "Teacher accuracy: 74.69%\n",
            "Student accuracy: 69.62%\n"
          ]
        }
      ],
      "source": [
        "print(f\"Teacher accuracy: {test_accuracy_deep:.2f}%\")\n",
        "print(f\"Student accuracy: {test_accuracy_light_ce:.2f}%\")"
      ]
    },
    {
      "cell_type": "markdown",
      "metadata": {
        "id": "aZ-ad8X6e7pp"
      },
      "source": [
        "Knowledge distillation run\n",
        "==========================\n",
        "\n",
        "Now let\\'s try to improve the test accuracy of the student network by\n",
        "incorporating the teacher. Knowledge distillation is a straightforward\n",
        "technique to achieve this, based on the fact that both networks output a\n",
        "probability distribution over our classes. Therefore, the two networks\n",
        "share the same number of output neurons. The method works by\n",
        "incorporating an additional loss into the traditional cross entropy\n",
        "loss, which is based on the softmax output of the teacher network. The\n",
        "assumption is that the output activations of a properly trained teacher\n",
        "network carry additional information that can be leveraged by a student\n",
        "network during training. The original work suggests that utilizing\n",
        "ratios of smaller probabilities in the soft targets can help achieve the\n",
        "underlying objective of deep neural networks, which is to create a\n",
        "similarity structure over the data where similar objects are mapped\n",
        "closer together. For example, in CIFAR-10, a truck could be mistaken for\n",
        "an automobile or airplane, if its wheels are present, but it is less\n",
        "likely to be mistaken for a dog. Therefore, it makes sense to assume\n",
        "that valuable information resides not only in the top prediction of a\n",
        "properly trained model but in the entire output distribution. However,\n",
        "cross entropy alone does not sufficiently exploit this information as\n",
        "the activations for non-predicted classes tend to be so small that\n",
        "propagated gradients do not meaningfully change the weights to construct\n",
        "this desirable vector space.\n",
        "\n",
        "As we continue defining our first helper function that introduces a\n",
        "teacher-student dynamic, we need to include a few extra parameters:\n",
        "\n",
        "-   `T`: Temperature controls the smoothness of the output\n",
        "    distributions. Larger `T` leads to smoother distributions, thus\n",
        "    smaller probabilities get a larger boost.\n",
        "-   `soft_target_loss_weight`: A weight assigned to the extra objective\n",
        "    we\\'re about to include.\n",
        "-   `ce_loss_weight`: A weight assigned to cross-entropy. Tuning these\n",
        "    weights pushes the network towards optimizing for either objective.\n",
        "\n",
        "![Distillation loss is calculated from the logits of the networks. It\n",
        "only returns gradients to the\n",
        "student:](https://pytorch.org/tutorials//../_static/img/knowledge_distillation/distillation_output_loss.png){.align-center}\n"
      ]
    },
    {
      "cell_type": "code",
      "execution_count": 14,
      "metadata": {
        "id": "m5Hoz-TMe7pp",
        "outputId": "92ea182a-9ecf-4717-d541-2b369c015b97",
        "colab": {
          "base_uri": "https://localhost:8080/"
        }
      },
      "outputs": [
        {
          "output_type": "stream",
          "name": "stdout",
          "text": [
            "Epoch 1/10, Loss: 2.3798299363202147\n",
            "Epoch 2/10, Loss: 1.8614178944731612\n",
            "Epoch 3/10, Loss: 1.6279064051025665\n",
            "Epoch 4/10, Loss: 1.4668267334208769\n",
            "Epoch 5/10, Loss: 1.3261592048208426\n",
            "Epoch 6/10, Loss: 1.2155717239355492\n",
            "Epoch 7/10, Loss: 1.106443925129483\n",
            "Epoch 8/10, Loss: 1.0135383333086663\n",
            "Epoch 9/10, Loss: 0.9390873117824955\n",
            "Epoch 10/10, Loss: 0.8590813838612393\n",
            "Test Accuracy: 71.04%\n",
            "Teacher accuracy: 74.69%\n",
            "Student accuracy without teacher: 69.62%\n",
            "Student accuracy with CE + KD: 71.04%\n"
          ]
        }
      ],
      "source": [
        "def train_knowledge_distillation(teacher, student, train_loader, epochs, learning_rate, T, soft_target_loss_weight, ce_loss_weight, device):\n",
        "    ce_loss = nn.CrossEntropyLoss()\n",
        "    optimizer = optim.Adam(student.parameters(), lr=learning_rate)\n",
        "\n",
        "    teacher.eval()  # Teacher set to evaluation mode\n",
        "    student.train() # Student to train mode\n",
        "\n",
        "    for epoch in range(epochs):\n",
        "        running_loss = 0.0\n",
        "        for inputs, labels in train_loader:\n",
        "            inputs, labels = inputs.to(device), labels.to(device)\n",
        "\n",
        "            optimizer.zero_grad()\n",
        "\n",
        "            # Forward pass with the teacher model - do not save gradients here as we do not change the teacher's weights\n",
        "            with torch.no_grad():\n",
        "                teacher_logits = teacher(inputs)\n",
        "\n",
        "            # Forward pass with the student model\n",
        "            student_logits = student(inputs)\n",
        "\n",
        "            #Soften the student logits by applying softmax first and log() second\n",
        "            soft_targets = nn.functional.softmax(teacher_logits / T, dim=-1)\n",
        "            soft_prob = nn.functional.log_softmax(student_logits / T, dim=-1)\n",
        "\n",
        "            # Calculate the soft targets loss. Scaled by T**2 as suggested by the authors of the paper \"Distilling the knowledge in a neural network\"\n",
        "            soft_targets_loss = torch.sum(soft_targets * (soft_targets.log() - soft_prob)) / soft_prob.size()[0] * (T**2)\n",
        "\n",
        "            # Calculate the true label loss\n",
        "            label_loss = ce_loss(student_logits, labels)\n",
        "\n",
        "            # Weighted sum of the two losses\n",
        "            loss = soft_target_loss_weight * soft_targets_loss + ce_loss_weight * label_loss\n",
        "\n",
        "            loss.backward()\n",
        "            optimizer.step()\n",
        "\n",
        "            running_loss += loss.item()\n",
        "\n",
        "        print(f\"Epoch {epoch+1}/{epochs}, Loss: {running_loss / len(train_loader)}\")\n",
        "\n",
        "# Apply ``train_knowledge_distillation`` with a temperature of 2. Arbitrarily set the weights to 0.75 for CE and 0.25 for distillation loss.\n",
        "train_knowledge_distillation(teacher=nn_deep, student=new_nn_light, train_loader=train_loader, epochs=10, learning_rate=0.001, T=2, soft_target_loss_weight=0.25, ce_loss_weight=0.75, device=device)\n",
        "test_accuracy_light_ce_and_kd = test(new_nn_light, test_loader, device)\n",
        "\n",
        "# Compare the student test accuracy with and without the teacher, after distillation\n",
        "print(f\"Teacher accuracy: {test_accuracy_deep:.2f}%\")\n",
        "print(f\"Student accuracy without teacher: {test_accuracy_light_ce:.2f}%\")\n",
        "print(f\"Student accuracy with CE + KD: {test_accuracy_light_ce_and_kd:.2f}%\")"
      ]
    },
    {
      "cell_type": "code",
      "source": [
        "torch.save(new_nn_light.state_dict(), \"KD_lightnn_state_dict.pth\")"
      ],
      "metadata": {
        "id": "kUn-a_c1oD7G"
      },
      "execution_count": 34,
      "outputs": []
    },
    {
      "cell_type": "markdown",
      "metadata": {
        "id": "3HXnJC1Ke7pp"
      },
      "source": [
        "Cosine loss minimization run\n",
        "============================\n",
        "\n",
        "Feel free to play around with the temperature parameter that controls\n",
        "the softness of the softmax function and the loss coefficients. In\n",
        "neural networks, it is easy to include additional loss functions to the\n",
        "main objectives to achieve goals like better generalization. Let\\'s try\n",
        "including an objective for the student, but now let\\'s focus on their\n",
        "hidden states rather than their output layers. Our goal is to convey\n",
        "information from the teacher\\'s representation to the student by\n",
        "including a naive loss function, whose minimization implies that the\n",
        "flattened vectors that are subsequently passed to the classifiers have\n",
        "become more *similar* as the loss decreases. Of course, the teacher does\n",
        "not update its weights, so the minimization depends only on the\n",
        "student\\'s weights. The rationale behind this method is that we are\n",
        "operating under the assumption that the teacher model has a better\n",
        "internal representation that is unlikely to be achieved by the student\n",
        "without external intervention, therefore we artificially push the\n",
        "student to mimic the internal representation of the teacher. Whether or\n",
        "not this will end up helping the student is not straightforward, though,\n",
        "because pushing the lightweight network to reach this point could be a\n",
        "good thing, assuming that we have found an internal representation that\n",
        "leads to better test accuracy, but it could also be harmful because the\n",
        "networks have different architectures and the student does not have the\n",
        "same learning capacity as the teacher. In other words, there is no\n",
        "reason for these two vectors, the student\\'s and the teacher\\'s to match\n",
        "per component. The student could reach an internal representation that\n",
        "is a permutation of the teacher\\'s and it would be just as efficient.\n",
        "Nonetheless, we can still run a quick experiment to figure out the\n",
        "impact of this method. We will be using the `CosineEmbeddingLoss` which\n",
        "is given by the following formula:\n",
        "\n",
        "![Formula for\n",
        "CosineEmbeddingLoss](https://pytorch.org/tutorials//../_static/img/knowledge_distillation/cosine_embedding_loss.png){.align-center\n",
        "width=\"450px\"}\n",
        "\n",
        "Obviously, there is one thing that we need to resolve first. When we\n",
        "applied distillation to the output layer we mentioned that both networks\n",
        "have the same number of neurons, equal to the number of classes.\n",
        "However, this is not the case for the layer following our convolutional\n",
        "layers. Here, the teacher has more neurons than the student after the\n",
        "flattening of the final convolutional layer. Our loss function accepts\n",
        "two vectors of equal dimensionality as inputs, therefore we need to\n",
        "somehow match them. We will solve this by including an average pooling\n",
        "layer after the teacher\\'s convolutional layer to reduce its\n",
        "dimensionality to match that of the student.\n",
        "\n",
        "To proceed, we will modify our model classes, or create new ones. Now,\n",
        "the forward function returns not only the logits of the network but also\n",
        "the flattened hidden representation after the convolutional layer. We\n",
        "include the aforementioned pooling for the modified teacher.\n"
      ]
    },
    {
      "cell_type": "code",
      "execution_count": 15,
      "metadata": {
        "id": "kqqqRgI0e7pp",
        "outputId": "fb54cfeb-5b49-41ac-f0b4-631b615e2ed1",
        "colab": {
          "base_uri": "https://localhost:8080/"
        }
      },
      "outputs": [
        {
          "output_type": "stream",
          "name": "stdout",
          "text": [
            "Norm of 1st layer for deep_nn: 7.480374336242676\n",
            "Norm of 1st layer for modified_deep_nn: 7.480374336242676\n",
            "Norm of 1st layer: 2.327361822128296\n"
          ]
        }
      ],
      "source": [
        "class ModifiedDeepNNCosine(nn.Module):\n",
        "    def __init__(self, num_classes=10):\n",
        "        super(ModifiedDeepNNCosine, self).__init__()\n",
        "        self.features = nn.Sequential(\n",
        "            nn.Conv2d(3, 128, kernel_size=3, padding=1),\n",
        "            nn.ReLU(),\n",
        "            nn.Conv2d(128, 64, kernel_size=3, padding=1),\n",
        "            nn.ReLU(),\n",
        "            nn.MaxPool2d(kernel_size=2, stride=2),\n",
        "            nn.Conv2d(64, 64, kernel_size=3, padding=1),\n",
        "            nn.ReLU(),\n",
        "            nn.Conv2d(64, 32, kernel_size=3, padding=1),\n",
        "            nn.ReLU(),\n",
        "            nn.MaxPool2d(kernel_size=2, stride=2),\n",
        "        )\n",
        "        self.classifier = nn.Sequential(\n",
        "            nn.Linear(2048, 512),\n",
        "            nn.ReLU(),\n",
        "            nn.Dropout(0.1),\n",
        "            nn.Linear(512, num_classes)\n",
        "        )\n",
        "\n",
        "    def forward(self, x):\n",
        "        x = self.features(x)\n",
        "        flattened_conv_output = torch.flatten(x, 1)\n",
        "        x = self.classifier(flattened_conv_output)\n",
        "        flattened_conv_output_after_pooling = torch.nn.functional.avg_pool1d(flattened_conv_output, 2)\n",
        "        return x, flattened_conv_output_after_pooling\n",
        "\n",
        "# Create a similar student class where we return a tuple. We do not apply pooling after flattening.\n",
        "class ModifiedLightNNCosine(nn.Module):\n",
        "    def __init__(self, num_classes=10):\n",
        "        super(ModifiedLightNNCosine, self).__init__()\n",
        "        self.features = nn.Sequential(\n",
        "            nn.Conv2d(3, 16, kernel_size=3, padding=1),\n",
        "            nn.ReLU(),\n",
        "            nn.MaxPool2d(kernel_size=2, stride=2),\n",
        "            nn.Conv2d(16, 16, kernel_size=3, padding=1),\n",
        "            nn.ReLU(),\n",
        "            nn.MaxPool2d(kernel_size=2, stride=2),\n",
        "        )\n",
        "        self.classifier = nn.Sequential(\n",
        "            nn.Linear(1024, 256),\n",
        "            nn.ReLU(),\n",
        "            nn.Dropout(0.1),\n",
        "            nn.Linear(256, num_classes)\n",
        "        )\n",
        "\n",
        "    def forward(self, x):\n",
        "        x = self.features(x)\n",
        "        flattened_conv_output = torch.flatten(x, 1)\n",
        "        x = self.classifier(flattened_conv_output)\n",
        "        return x, flattened_conv_output\n",
        "\n",
        "# We do not have to train the modified deep network from scratch of course, we just load its weights from the trained instance\n",
        "modified_nn_deep = ModifiedDeepNNCosine(num_classes=10).to(device)\n",
        "modified_nn_deep.load_state_dict(nn_deep.state_dict())\n",
        "\n",
        "# Once again ensure the norm of the first layer is the same for both networks\n",
        "print(\"Norm of 1st layer for deep_nn:\", torch.norm(nn_deep.features[0].weight).item())\n",
        "print(\"Norm of 1st layer for modified_deep_nn:\", torch.norm(modified_nn_deep.features[0].weight).item())\n",
        "\n",
        "# Initialize a modified lightweight network with the same seed as our other lightweight instances. This will be trained from scratch to examine the effectiveness of cosine loss minimization.\n",
        "torch.manual_seed(42)\n",
        "modified_nn_light = ModifiedLightNNCosine(num_classes=10).to(device)\n",
        "print(\"Norm of 1st layer:\", torch.norm(modified_nn_light.features[0].weight).item())"
      ]
    },
    {
      "cell_type": "markdown",
      "metadata": {
        "id": "eUB6lAgZe7pp"
      },
      "source": [
        "Naturally, we need to change the train loop because now the model\n",
        "returns a tuple `(logits, hidden_representation)`. Using a sample input\n",
        "tensor we can print their shapes.\n"
      ]
    },
    {
      "cell_type": "code",
      "execution_count": 16,
      "metadata": {
        "id": "jH-xK0Tbe7pp",
        "outputId": "f1da8792-ae31-4091-de75-c3a992eeb9aa",
        "colab": {
          "base_uri": "https://localhost:8080/"
        }
      },
      "outputs": [
        {
          "output_type": "stream",
          "name": "stdout",
          "text": [
            "Student logits shape: torch.Size([128, 10])\n",
            "Student hidden representation shape: torch.Size([128, 1024])\n",
            "Teacher logits shape: torch.Size([128, 10])\n",
            "Teacher hidden representation shape: torch.Size([128, 1024])\n"
          ]
        }
      ],
      "source": [
        "# Create a sample input tensor\n",
        "sample_input = torch.randn(128, 3, 32, 32).to(device) # Batch size: 128, Filters: 3, Image size: 32x32\n",
        "\n",
        "# Pass the input through the student\n",
        "logits, hidden_representation = modified_nn_light(sample_input)\n",
        "\n",
        "# Print the shapes of the tensors\n",
        "print(\"Student logits shape:\", logits.shape) # batch_size x total_classes\n",
        "print(\"Student hidden representation shape:\", hidden_representation.shape) # batch_size x hidden_representation_size\n",
        "\n",
        "# Pass the input through the teacher\n",
        "logits, hidden_representation = modified_nn_deep(sample_input)\n",
        "\n",
        "# Print the shapes of the tensors\n",
        "print(\"Teacher logits shape:\", logits.shape) # batch_size x total_classes\n",
        "print(\"Teacher hidden representation shape:\", hidden_representation.shape) # batch_size x hidden_representation_size"
      ]
    },
    {
      "cell_type": "markdown",
      "metadata": {
        "id": "NQk7UpqLe7pp"
      },
      "source": [
        "In our case, `hidden_representation_size` is `1024`. This is the\n",
        "flattened feature map of the final convolutional layer of the student\n",
        "and as you can see, it is the input for its classifier. It is `1024` for\n",
        "the teacher too, because we made it so with `avg_pool1d` from `2048`.\n",
        "The loss applied here only affects the weights of the student prior to\n",
        "the loss calculation. In other words, it does not affect the classifier\n",
        "of the student. The modified training loop is the following:\n",
        "\n",
        "![In Cosine Loss minimization, we want to maximize the cosine similarity\n",
        "of the two representations by returning gradients to the\n",
        "student:](https://pytorch.org/tutorials//../_static/img/knowledge_distillation/cosine_loss_distillation.png){.align-center}\n"
      ]
    },
    {
      "cell_type": "code",
      "execution_count": 17,
      "metadata": {
        "id": "rvRQJJI8e7pp"
      },
      "outputs": [],
      "source": [
        "def train_cosine_loss(teacher, student, train_loader, epochs, learning_rate, hidden_rep_loss_weight, ce_loss_weight, device):\n",
        "    ce_loss = nn.CrossEntropyLoss()\n",
        "    cosine_loss = nn.CosineEmbeddingLoss()\n",
        "    optimizer = optim.Adam(student.parameters(), lr=learning_rate)\n",
        "\n",
        "    teacher.to(device)\n",
        "    student.to(device)\n",
        "    teacher.eval()  # Teacher set to evaluation mode\n",
        "    student.train() # Student to train mode\n",
        "\n",
        "    for epoch in range(epochs):\n",
        "        running_loss = 0.0\n",
        "        for inputs, labels in train_loader:\n",
        "            inputs, labels = inputs.to(device), labels.to(device)\n",
        "\n",
        "            optimizer.zero_grad()\n",
        "\n",
        "            # Forward pass with the teacher model and keep only the hidden representation\n",
        "            with torch.no_grad():\n",
        "                _, teacher_hidden_representation = teacher(inputs)\n",
        "\n",
        "            # Forward pass with the student model\n",
        "            student_logits, student_hidden_representation = student(inputs)\n",
        "\n",
        "            # Calculate the cosine loss. Target is a vector of ones. From the loss formula above we can see that is the case where loss minimization leads to cosine similarity increase.\n",
        "            hidden_rep_loss = cosine_loss(student_hidden_representation, teacher_hidden_representation, target=torch.ones(inputs.size(0)).to(device))\n",
        "\n",
        "            # Calculate the true label loss\n",
        "            label_loss = ce_loss(student_logits, labels)\n",
        "\n",
        "            # Weighted sum of the two losses\n",
        "            loss = hidden_rep_loss_weight * hidden_rep_loss + ce_loss_weight * label_loss\n",
        "\n",
        "            loss.backward()\n",
        "            optimizer.step()\n",
        "\n",
        "            running_loss += loss.item()\n",
        "\n",
        "        print(f\"Epoch {epoch+1}/{epochs}, Loss: {running_loss / len(train_loader)}\")"
      ]
    },
    {
      "cell_type": "markdown",
      "metadata": {
        "id": "OGlb3SSce7pq"
      },
      "source": [
        "We need to modify our test function for the same reason. Here we ignore\n",
        "the hidden representation returned by the model.\n"
      ]
    },
    {
      "cell_type": "code",
      "execution_count": 18,
      "metadata": {
        "id": "9SOXHuKqe7pq"
      },
      "outputs": [],
      "source": [
        "def test_multiple_outputs(model, test_loader, device):\n",
        "    model.to(device)\n",
        "    model.eval()\n",
        "\n",
        "    correct = 0\n",
        "    total = 0\n",
        "\n",
        "    with torch.no_grad():\n",
        "        for inputs, labels in test_loader:\n",
        "            inputs, labels = inputs.to(device), labels.to(device)\n",
        "\n",
        "            outputs, _ = model(inputs) # Disregard the second tensor of the tuple\n",
        "            _, predicted = torch.max(outputs.data, 1)\n",
        "\n",
        "            total += labels.size(0)\n",
        "            correct += (predicted == labels).sum().item()\n",
        "\n",
        "    accuracy = 100 * correct / total\n",
        "    print(f\"Test Accuracy: {accuracy:.2f}%\")\n",
        "    return accuracy"
      ]
    },
    {
      "cell_type": "markdown",
      "metadata": {
        "id": "N9lQgscne7pq"
      },
      "source": [
        "In this case, we could easily include both knowledge distillation and\n",
        "cosine loss minimization in the same function. It is common to combine\n",
        "methods to achieve better performance in teacher-student paradigms. For\n",
        "now, we can run a simple train-test session.\n"
      ]
    },
    {
      "cell_type": "code",
      "execution_count": 19,
      "metadata": {
        "id": "k4iKnAbye7pq",
        "outputId": "f504a514-35af-4de7-f305-7537f35b9839",
        "colab": {
          "base_uri": "https://localhost:8080/"
        }
      },
      "outputs": [
        {
          "output_type": "stream",
          "name": "stdout",
          "text": [
            "Epoch 1/10, Loss: 1.291271405451743\n",
            "Epoch 2/10, Loss: 1.067605065262836\n",
            "Epoch 3/10, Loss: 0.970535113683442\n",
            "Epoch 4/10, Loss: 0.9007759019541923\n",
            "Epoch 5/10, Loss: 0.8419071759104424\n",
            "Epoch 6/10, Loss: 0.7945814596112731\n",
            "Epoch 7/10, Loss: 0.7544531027984132\n",
            "Epoch 8/10, Loss: 0.7184599862074303\n",
            "Epoch 9/10, Loss: 0.6811274387647429\n",
            "Epoch 10/10, Loss: 0.6497856105684929\n",
            "Test Accuracy: 71.17%\n"
          ]
        }
      ],
      "source": [
        "# Train and test the lightweight network with cross entropy loss\n",
        "train_cosine_loss(teacher=modified_nn_deep, student=modified_nn_light, train_loader=train_loader, epochs=10, learning_rate=0.001, hidden_rep_loss_weight=0.25, ce_loss_weight=0.75, device=device)\n",
        "test_accuracy_light_ce_and_cosine_loss = test_multiple_outputs(modified_nn_light, test_loader, device)"
      ]
    },
    {
      "cell_type": "code",
      "source": [
        "torch.save(modified_nn_light.state_dict(), \"modified_nn_light_state_dict.pth\")"
      ],
      "metadata": {
        "id": "kg3bg5WRoay8"
      },
      "execution_count": 35,
      "outputs": []
    },
    {
      "cell_type": "markdown",
      "metadata": {
        "id": "yZj9B1Gke7pq"
      },
      "source": [
        "Intermediate regressor run\n",
        "==========================\n",
        "\n",
        "Our naive minimization does not guarantee better results for several\n",
        "reasons, one being the dimensionality of the vectors. Cosine similarity\n",
        "generally works better than Euclidean distance for vectors of higher\n",
        "dimensionality, but we were dealing with vectors with 1024 components\n",
        "each, so it is much harder to extract meaningful similarities.\n",
        "Furthermore, as we mentioned, pushing towards a match of the hidden\n",
        "representation of the teacher and the student is not supported by\n",
        "theory. There are no good reasons why we should be aiming for a 1:1\n",
        "match of these vectors. We will provide a final example of training\n",
        "intervention by including an extra network called regressor. The\n",
        "objective is to first extract the feature map of the teacher after a\n",
        "convolutional layer, then extract a feature map of the student after a\n",
        "convolutional layer, and finally try to match these maps. However, this\n",
        "time, we will introduce a regressor between the networks to facilitate\n",
        "the matching process. The regressor will be trainable and ideally will\n",
        "do a better job than our naive cosine loss minimization scheme. Its main\n",
        "job is to match the dimensionality of these feature maps so that we can\n",
        "properly define a loss function between the teacher and the student.\n",
        "Defining such a loss function provides a teaching \\\"path,\\\" which is\n",
        "basically a flow to back-propagate gradients that will change the\n",
        "student\\'s weights. Focusing on the output of the convolutional layers\n",
        "right before each classifier for our original networks, we have the\n",
        "following shapes:\n"
      ]
    },
    {
      "cell_type": "code",
      "execution_count": 20,
      "metadata": {
        "id": "k-6WYGzne7pq",
        "outputId": "43b3e619-41fa-4e8f-b65b-4e7373be6e4b",
        "colab": {
          "base_uri": "https://localhost:8080/"
        }
      },
      "outputs": [
        {
          "output_type": "stream",
          "name": "stdout",
          "text": [
            "Student's feature extractor output shape:  torch.Size([128, 16, 8, 8])\n",
            "Teacher's feature extractor output shape:  torch.Size([128, 32, 8, 8])\n"
          ]
        }
      ],
      "source": [
        "# Pass the sample input only from the convolutional feature extractor\n",
        "convolutional_fe_output_student = nn_light.features(sample_input)\n",
        "convolutional_fe_output_teacher = nn_deep.features(sample_input)\n",
        "\n",
        "# Print their shapes\n",
        "print(\"Student's feature extractor output shape: \", convolutional_fe_output_student.shape)\n",
        "print(\"Teacher's feature extractor output shape: \", convolutional_fe_output_teacher.shape)"
      ]
    },
    {
      "cell_type": "markdown",
      "metadata": {
        "id": "AHAqTEEIe7pq"
      },
      "source": [
        "We have 32 filters for the teacher and 16 filters for the student. We\n",
        "will include a trainable layer that converts the feature map of the\n",
        "student to the shape of the feature map of the teacher. In practice, we\n",
        "modify the lightweight class to return the hidden state after an\n",
        "intermediate regressor that matches the sizes of the convolutional\n",
        "feature maps and the teacher class to return the output of the final\n",
        "convolutional layer without pooling or flattening.\n",
        "\n",
        "![The trainable layer matches the shapes of the intermediate tensors and\n",
        "Mean Squared Error (MSE) is properly\n",
        "defined:](https://pytorch.org/tutorials//../_static/img/knowledge_distillation/fitnets_knowledge_distill.png){.align-center}\n"
      ]
    },
    {
      "cell_type": "code",
      "execution_count": 13,
      "metadata": {
        "id": "UG5nszFse7pq"
      },
      "outputs": [],
      "source": [
        "class ModifiedDeepNNRegressor(nn.Module):\n",
        "    def __init__(self, num_classes=10):\n",
        "        super(ModifiedDeepNNRegressor, self).__init__()\n",
        "        self.features = nn.Sequential(\n",
        "            nn.Conv2d(3, 128, kernel_size=3, padding=1),\n",
        "            nn.ReLU(),\n",
        "            nn.Conv2d(128, 64, kernel_size=3, padding=1),\n",
        "            nn.ReLU(),\n",
        "            nn.MaxPool2d(kernel_size=2, stride=2),\n",
        "            nn.Conv2d(64, 64, kernel_size=3, padding=1),\n",
        "            nn.ReLU(),\n",
        "            nn.Conv2d(64, 32, kernel_size=3, padding=1),\n",
        "            nn.ReLU(),\n",
        "            nn.MaxPool2d(kernel_size=2, stride=2),\n",
        "        )\n",
        "        self.classifier = nn.Sequential(\n",
        "            nn.Linear(2048, 512),\n",
        "            nn.ReLU(),\n",
        "            nn.Dropout(0.1),\n",
        "            nn.Linear(512, num_classes)\n",
        "        )\n",
        "\n",
        "    def forward(self, x):\n",
        "        x = self.features(x)\n",
        "        conv_feature_map = x\n",
        "        x = torch.flatten(x, 1)\n",
        "        x = self.classifier(x)\n",
        "        return x, conv_feature_map\n",
        "\n",
        "class ModifiedLightNNRegressor(nn.Module):\n",
        "    def __init__(self, num_classes=10):\n",
        "        super(ModifiedLightNNRegressor, self).__init__()\n",
        "        self.features = nn.Sequential(\n",
        "            nn.Conv2d(3, 16, kernel_size=3, padding=1),\n",
        "            nn.ReLU(),\n",
        "            nn.MaxPool2d(kernel_size=2, stride=2),\n",
        "            nn.Conv2d(16, 16, kernel_size=3, padding=1),\n",
        "            nn.ReLU(),\n",
        "            nn.MaxPool2d(kernel_size=2, stride=2),\n",
        "        )\n",
        "        # Include an extra regressor (in our case linear)\n",
        "        self.regressor = nn.Sequential(\n",
        "            nn.Conv2d(16, 32, kernel_size=3, padding=1)\n",
        "        )\n",
        "        self.classifier = nn.Sequential(\n",
        "            nn.Linear(1024, 256),\n",
        "            nn.ReLU(),\n",
        "            nn.Dropout(0.1),\n",
        "            nn.Linear(256, num_classes)\n",
        "        )\n",
        "\n",
        "    def forward(self, x):\n",
        "        x = self.features(x)\n",
        "        regressor_output = self.regressor(x)\n",
        "        x = torch.flatten(x, 1)\n",
        "        x = self.classifier(x)\n",
        "        return x, regressor_output"
      ]
    },
    {
      "cell_type": "markdown",
      "metadata": {
        "id": "WYAT5B2He7pq"
      },
      "source": [
        "After that, we have to update our train loop again. This time, we\n",
        "extract the regressor output of the student, the feature map of the\n",
        "teacher, we calculate the `MSE` on these tensors (they have the exact\n",
        "same shape so it\\'s properly defined) and we back propagate gradients\n",
        "based on that loss, in addition to the regular cross entropy loss of the\n",
        "classification task.\n"
      ]
    },
    {
      "cell_type": "code",
      "execution_count": 22,
      "metadata": {
        "id": "f-dTflVMe7pq",
        "outputId": "dfde5a09-8522-46aa-de9b-b6777bb65b35",
        "colab": {
          "base_uri": "https://localhost:8080/"
        }
      },
      "outputs": [
        {
          "output_type": "stream",
          "name": "stdout",
          "text": [
            "Epoch 1/10, Loss: 1.7711726741107834\n",
            "Epoch 2/10, Loss: 1.3837654865001474\n",
            "Epoch 3/10, Loss: 1.2334593839352699\n",
            "Epoch 4/10, Loss: 1.135285893517077\n",
            "Epoch 5/10, Loss: 1.0554203572480574\n",
            "Epoch 6/10, Loss: 0.9936255090072027\n",
            "Epoch 7/10, Loss: 0.9345151885696079\n",
            "Epoch 8/10, Loss: 0.886030498368051\n",
            "Epoch 9/10, Loss: 0.8443662367208534\n",
            "Epoch 10/10, Loss: 0.8011863202695042\n",
            "Test Accuracy: 70.83%\n"
          ]
        }
      ],
      "source": [
        "def train_mse_loss(teacher, student, train_loader, epochs, learning_rate, feature_map_weight, ce_loss_weight, device):\n",
        "    ce_loss = nn.CrossEntropyLoss()\n",
        "    mse_loss = nn.MSELoss()\n",
        "    optimizer = optim.Adam(student.parameters(), lr=learning_rate)\n",
        "\n",
        "    teacher.to(device)\n",
        "    student.to(device)\n",
        "    teacher.eval()  # Teacher set to evaluation mode\n",
        "    student.train() # Student to train mode\n",
        "\n",
        "    for epoch in range(epochs):\n",
        "        running_loss = 0.0\n",
        "        for inputs, labels in train_loader:\n",
        "            inputs, labels = inputs.to(device), labels.to(device)\n",
        "\n",
        "            optimizer.zero_grad()\n",
        "\n",
        "            # Again ignore teacher logits\n",
        "            with torch.no_grad():\n",
        "                _, teacher_feature_map = teacher(inputs)\n",
        "\n",
        "            # Forward pass with the student model\n",
        "            student_logits, regressor_feature_map = student(inputs)\n",
        "\n",
        "            # Calculate the loss\n",
        "            hidden_rep_loss = mse_loss(regressor_feature_map, teacher_feature_map)\n",
        "\n",
        "            # Calculate the true label loss\n",
        "            label_loss = ce_loss(student_logits, labels)\n",
        "\n",
        "            # Weighted sum of the two losses\n",
        "            loss = feature_map_weight * hidden_rep_loss + ce_loss_weight * label_loss\n",
        "\n",
        "            loss.backward()\n",
        "            optimizer.step()\n",
        "\n",
        "            running_loss += loss.item()\n",
        "\n",
        "        print(f\"Epoch {epoch+1}/{epochs}, Loss: {running_loss / len(train_loader)}\")\n",
        "\n",
        "# Notice how our test function remains the same here with the one we used in our previous case. We only care about the actual outputs because we measure accuracy.\n",
        "\n",
        "# Initialize a ModifiedLightNNRegressor\n",
        "torch.manual_seed(42)\n",
        "modified_nn_light_reg = ModifiedLightNNRegressor(num_classes=10).to(device)\n",
        "\n",
        "# We do not have to train the modified deep network from scratch of course, we just load its weights from the trained instance\n",
        "modified_nn_deep_reg = ModifiedDeepNNRegressor(num_classes=10).to(device)\n",
        "modified_nn_deep_reg.load_state_dict(nn_deep.state_dict())\n",
        "\n",
        "# Train and test once again\n",
        "train_mse_loss(teacher=modified_nn_deep_reg, student=modified_nn_light_reg, train_loader=train_loader, epochs=10, learning_rate=0.001, feature_map_weight=0.25, ce_loss_weight=0.75, device=device)\n",
        "test_accuracy_light_ce_and_mse_loss = test_multiple_outputs(modified_nn_light_reg, test_loader, device)"
      ]
    },
    {
      "cell_type": "code",
      "source": [
        "torch.save(modified_nn_light_reg.state_dict(), \"modified_nn_light_reg_with_rp.pth\")"
      ],
      "metadata": {
        "id": "2aNazcwpoq35"
      },
      "execution_count": 36,
      "outputs": []
    },
    {
      "cell_type": "code",
      "source": [
        "modified_nn_light_reg = ModifiedLightNNRegressor(num_classes=10).to(device)\n",
        "modified_nn_light_reg.load_state_dict(torch.load(\"modified_nn_light_reg_with_rp.pth\"))\n",
        "modified_nn_light_reg.eval()\n"
      ],
      "metadata": {
        "id": "BKK968g5pA1R",
        "outputId": "29a89016-f4af-4b8f-8e73-c9e98f8b1fc1",
        "colab": {
          "base_uri": "https://localhost:8080/"
        }
      },
      "execution_count": 26,
      "outputs": [
        {
          "output_type": "execute_result",
          "data": {
            "text/plain": [
              "ModifiedLightNNRegressor(\n",
              "  (features): Sequential(\n",
              "    (0): Conv2d(3, 16, kernel_size=(3, 3), stride=(1, 1), padding=(1, 1))\n",
              "    (1): ReLU()\n",
              "    (2): MaxPool2d(kernel_size=2, stride=2, padding=0, dilation=1, ceil_mode=False)\n",
              "    (3): Conv2d(16, 16, kernel_size=(3, 3), stride=(1, 1), padding=(1, 1))\n",
              "    (4): ReLU()\n",
              "    (5): MaxPool2d(kernel_size=2, stride=2, padding=0, dilation=1, ceil_mode=False)\n",
              "  )\n",
              "  (regressor): Sequential(\n",
              "    (0): Conv2d(16, 32, kernel_size=(3, 3), stride=(1, 1), padding=(1, 1))\n",
              "  )\n",
              "  (classifier): Sequential(\n",
              "    (0): Linear(in_features=1024, out_features=256, bias=True)\n",
              "    (1): ReLU()\n",
              "    (2): Dropout(p=0.1, inplace=False)\n",
              "    (3): Linear(in_features=256, out_features=10, bias=True)\n",
              "  )\n",
              ")"
            ]
          },
          "metadata": {},
          "execution_count": 26
        }
      ]
    },
    {
      "cell_type": "code",
      "source": [
        "test(modified_nn_light_reg, test_loader, device)"
      ],
      "metadata": {
        "id": "J_bcmlYPrgyU",
        "outputId": "134dbeb3-76b6-477a-ebfc-1cb56f972b40",
        "colab": {
          "base_uri": "https://localhost:8080/",
          "height": 269
        }
      },
      "execution_count": 27,
      "outputs": [
        {
          "output_type": "error",
          "ename": "AttributeError",
          "evalue": "'tuple' object has no attribute 'data'",
          "traceback": [
            "\u001b[0;31m---------------------------------------------------------------------------\u001b[0m",
            "\u001b[0;31mAttributeError\u001b[0m                            Traceback (most recent call last)",
            "\u001b[0;32m<ipython-input-27-835c8e903d71>\u001b[0m in \u001b[0;36m<cell line: 0>\u001b[0;34m()\u001b[0m\n\u001b[0;32m----> 1\u001b[0;31m \u001b[0mtest\u001b[0m\u001b[0;34m(\u001b[0m\u001b[0mmodified_nn_light_reg\u001b[0m\u001b[0;34m,\u001b[0m \u001b[0mtest_loader\u001b[0m\u001b[0;34m,\u001b[0m \u001b[0mdevice\u001b[0m\u001b[0;34m)\u001b[0m\u001b[0;34m\u001b[0m\u001b[0;34m\u001b[0m\u001b[0m\n\u001b[0m",
            "\u001b[0;32m<ipython-input-7-ecd19acf0f54>\u001b[0m in \u001b[0;36mtest\u001b[0;34m(model, test_loader, device)\u001b[0m\n\u001b[1;32m     38\u001b[0m \u001b[0;34m\u001b[0m\u001b[0m\n\u001b[1;32m     39\u001b[0m             \u001b[0moutputs\u001b[0m \u001b[0;34m=\u001b[0m \u001b[0mmodel\u001b[0m\u001b[0;34m(\u001b[0m\u001b[0minputs\u001b[0m\u001b[0;34m)\u001b[0m\u001b[0;34m\u001b[0m\u001b[0;34m\u001b[0m\u001b[0m\n\u001b[0;32m---> 40\u001b[0;31m             \u001b[0m_\u001b[0m\u001b[0;34m,\u001b[0m \u001b[0mpredicted\u001b[0m \u001b[0;34m=\u001b[0m \u001b[0mtorch\u001b[0m\u001b[0;34m.\u001b[0m\u001b[0mmax\u001b[0m\u001b[0;34m(\u001b[0m\u001b[0moutputs\u001b[0m\u001b[0;34m.\u001b[0m\u001b[0mdata\u001b[0m\u001b[0;34m,\u001b[0m \u001b[0;36m1\u001b[0m\u001b[0;34m)\u001b[0m\u001b[0;34m\u001b[0m\u001b[0;34m\u001b[0m\u001b[0m\n\u001b[0m\u001b[1;32m     41\u001b[0m \u001b[0;34m\u001b[0m\u001b[0m\n\u001b[1;32m     42\u001b[0m             \u001b[0mtotal\u001b[0m \u001b[0;34m+=\u001b[0m \u001b[0mlabels\u001b[0m\u001b[0;34m.\u001b[0m\u001b[0msize\u001b[0m\u001b[0;34m(\u001b[0m\u001b[0;36m0\u001b[0m\u001b[0;34m)\u001b[0m\u001b[0;34m\u001b[0m\u001b[0;34m\u001b[0m\u001b[0m\n",
            "\u001b[0;31mAttributeError\u001b[0m: 'tuple' object has no attribute 'data'"
          ]
        }
      ]
    },
    {
      "cell_type": "markdown",
      "metadata": {
        "id": "vOzqXGC0e7pq"
      },
      "source": [
        "It is expected that the final method will work better than `CosineLoss`\n",
        "because now we have allowed a trainable layer between the teacher and\n",
        "the student, which gives the student some wiggle room when it comes to\n",
        "learning, rather than pushing the student to copy the teacher\\'s\n",
        "representation. Including the extra network is the idea behind\n",
        "hint-based distillation.\n"
      ]
    },
    {
      "cell_type": "code",
      "execution_count": 25,
      "metadata": {
        "id": "GeqlgOpke7pq",
        "outputId": "423f76a8-8abb-464f-cf00-e2c2c5958d98",
        "colab": {
          "base_uri": "https://localhost:8080/"
        }
      },
      "outputs": [
        {
          "output_type": "stream",
          "name": "stdout",
          "text": [
            "Teacher accuracy: 74.69%\n",
            "Student accuracy without teacher: 69.62%\n",
            "Student accuracy with CE + KD: 71.04%\n",
            "Student accuracy with CE + CosineLoss: 71.17%\n",
            "Student accuracy with CE + RegressorMSE: 70.83%\n"
          ]
        }
      ],
      "source": [
        "print(f\"Teacher accuracy: {test_accuracy_deep:.2f}%\")\n",
        "print(f\"Student accuracy without teacher: {test_accuracy_light_ce:.2f}%\")\n",
        "print(f\"Student accuracy with CE + KD: {test_accuracy_light_ce_and_kd:.2f}%\")\n",
        "print(f\"Student accuracy with CE + CosineLoss: {test_accuracy_light_ce_and_cosine_loss:.2f}%\")\n",
        "print(f\"Student accuracy with CE + RegressorMSE: {test_accuracy_light_ce_and_mse_loss:.2f}%\")"
      ]
    },
    {
      "cell_type": "markdown",
      "metadata": {
        "id": "JGE9USzre7pr"
      },
      "source": [
        "Conclusion\n",
        "==========\n",
        "\n",
        "None of the methods above increases the number of parameters for the\n",
        "network or inference time, so the performance increase comes at the\n",
        "little cost of calculating gradients during training. In ML\n",
        "applications, we mostly care about inference time because training\n",
        "happens before the model deployment. If our lightweight model is still\n",
        "too heavy for deployment, we can apply different ideas, such as\n",
        "post-training quantization. Additional losses can be applied in many\n",
        "tasks, not just classification, and you can experiment with quantities\n",
        "like coefficients, temperature, or number of neurons. Feel free to tune\n",
        "any numbers in the tutorial above, but keep in mind, if you change the\n",
        "number of neurons / filters chances are a shape mismatch might occur.\n",
        "\n",
        "For more information, see:\n",
        "\n",
        "-   [Hinton, G., Vinyals, O., Dean, J.: Distilling the knowledge in a\n",
        "    neural network. In: Neural Information Processing System Deep\n",
        "    Learning Workshop (2015)](https://arxiv.org/abs/1503.02531)\n",
        "-   [Romero, A., Ballas, N., Kahou, S.E., Chassang, A., Gatta, C.,\n",
        "    Bengio, Y.: Fitnets: Hints for thin deep nets. In: Proceedings of\n",
        "    the International Conference on Learning\n",
        "    Representations (2015)](https://arxiv.org/abs/1412.6550)\n"
      ]
    },
    {
      "cell_type": "code",
      "source": [
        "import torch\n",
        "import torch.nn as nn\n",
        "import torch.nn.functional as F\n",
        "\n",
        "class DeepNN_WithChannelRP(nn.Module):\n",
        "    def __init__(self, num_classes=10, rp_channels=32):\n",
        "        super(DeepNN_WithChannelRP, self).__init__()\n",
        "\n",
        "        # First conv layer\n",
        "        self.conv1 = nn.Conv2d(3, 128, kernel_size=3, padding=1)\n",
        "\n",
        "        # Random projection matrix: [rp_channels, original_channels]\n",
        "        self.register_buffer('rp_matrix', torch.randn(rp_channels, 128) / (128**0.5))  # fixed, not trainable\n",
        "\n",
        "        self.relu = nn.ReLU()\n",
        "\n",
        "        # Continue with the network after reducing channels from 128 → rp_channels\n",
        "        self.conv2 = nn.Conv2d(rp_channels, 64, kernel_size=3, padding=1)\n",
        "        self.conv3 = nn.Conv2d(64, 64, kernel_size=3, padding=1)\n",
        "        self.conv4 = nn.Conv2d(64, 32, kernel_size=3, padding=1)\n",
        "\n",
        "        self.pool = nn.MaxPool2d(2, 2)\n",
        "\n",
        "        self.classifier = nn.Sequential(\n",
        "            nn.Linear(32 * 8 * 8, 512),\n",
        "            nn.ReLU(),\n",
        "            nn.Dropout(0.1),\n",
        "            nn.Linear(512, num_classes)\n",
        "        )\n",
        "\n",
        "    def forward(self, x):\n",
        "        x = self.conv1(x)  # [B, 128, 32, 32]\n",
        "\n",
        "        # Apply random projection to reduce channel dimension: [B, 128, H, W] → [B, rp_channels, H, W]\n",
        "        x = torch.einsum('bchw,oc->bohw', x, self.rp_matrix)\n",
        "\n",
        "        x = self.relu(x)\n",
        "        x = self.conv2(x)\n",
        "        x = self.relu(x)\n",
        "        x = self.pool(x)\n",
        "\n",
        "        x = self.conv3(x)\n",
        "        x = self.relu(x)\n",
        "\n",
        "        x = self.conv4(x)\n",
        "        x = self.relu(x)\n",
        "        x = self.pool(x)  # Final shape: [B, 32, 8, 8]\n",
        "\n",
        "        x = torch.flatten(x, 1)  # [B, 2048]\n",
        "        x = self.classifier(x)   # [B, num_classes]\n",
        "        return x\n"
      ],
      "metadata": {
        "id": "W-QsjsfvkUON"
      },
      "execution_count": 29,
      "outputs": []
    },
    {
      "cell_type": "code",
      "source": [
        "import torch.optim as optim\n",
        "import torch.nn as nn\n",
        "\n",
        "def train(model, train_loader, epochs, learning_rate, device):\n",
        "    model.to(device)\n",
        "    model.train()\n",
        "\n",
        "    criterion = nn.CrossEntropyLoss()\n",
        "    optimizer = optim.Adam(model.parameters(), lr=learning_rate)\n",
        "\n",
        "    for epoch in range(epochs):\n",
        "        running_loss = 0.0\n",
        "\n",
        "        for inputs, labels in train_loader:\n",
        "            inputs, labels = inputs.to(device), labels.to(device)\n",
        "\n",
        "            optimizer.zero_grad()\n",
        "            outputs = model(inputs)\n",
        "            loss = criterion(outputs, labels)\n",
        "            loss.backward()\n",
        "            optimizer.step()\n",
        "\n",
        "            running_loss += loss.item()\n",
        "\n",
        "        avg_loss = running_loss / len(train_loader)\n",
        "        print(f\"Epoch {epoch + 1}/{epochs}, Loss: {avg_loss:.4f}\")\n",
        "\n",
        "def test(model, test_loader, device):\n",
        "    model.to(device)\n",
        "    model.eval()\n",
        "\n",
        "    correct = 0\n",
        "    total = 0\n",
        "\n",
        "    with torch.no_grad():\n",
        "        for inputs, labels in test_loader:\n",
        "            inputs, labels = inputs.to(device), labels.to(device)\n",
        "\n",
        "            outputs = model(inputs)\n",
        "            _, predicted = torch.max(outputs.data, 1)\n",
        "\n",
        "            total += labels.size(0)\n",
        "            correct += (predicted == labels).sum().item()\n",
        "\n",
        "    accuracy = 100 * correct / total\n",
        "    print(f\"Test Accuracy: {accuracy:.2f}%\")\n",
        "    return accuracy\n"
      ],
      "metadata": {
        "id": "eww0VWmckVik"
      },
      "execution_count": 7,
      "outputs": []
    },
    {
      "cell_type": "code",
      "source": [
        "model_rp = DeepNN_WithChannelRP()\n",
        "train(model_rp, train_loader, epochs=10, learning_rate=0.001, device='cuda')\n",
        "test(model_rp, test_loader, device='cuda')\n"
      ],
      "metadata": {
        "id": "y230hDr9qDwr",
        "outputId": "4ee11567-aed9-4ad8-bc70-dd9e6a8adce5",
        "colab": {
          "base_uri": "https://localhost:8080/"
        }
      },
      "execution_count": 30,
      "outputs": [
        {
          "output_type": "stream",
          "name": "stdout",
          "text": [
            "Epoch 1/10, Loss: 1.4058\n",
            "Epoch 2/10, Loss: 0.9341\n",
            "Epoch 3/10, Loss: 0.7277\n",
            "Epoch 4/10, Loss: 0.5881\n",
            "Epoch 5/10, Loss: 0.4737\n",
            "Epoch 6/10, Loss: 0.3590\n",
            "Epoch 7/10, Loss: 0.2678\n",
            "Epoch 8/10, Loss: 0.2037\n",
            "Epoch 9/10, Loss: 0.1553\n",
            "Epoch 10/10, Loss: 0.1338\n",
            "Test Accuracy: 76.48%\n"
          ]
        },
        {
          "output_type": "execute_result",
          "data": {
            "text/plain": [
              "76.48"
            ]
          },
          "metadata": {},
          "execution_count": 30
        }
      ]
    },
    {
      "cell_type": "code",
      "source": [
        "torch.save(model_rp.state_dict(), \"deepnn_with_rp.pth\")"
      ],
      "metadata": {
        "id": "iXfFRC3FlT2R"
      },
      "execution_count": 32,
      "outputs": []
    },
    {
      "cell_type": "code",
      "source": [
        "model_rp = DeepNN_WithChannelRP(rp_channels=32)\n",
        "model_rp.load_state_dict(torch.load(\"deepnn_with_rp.pth\"))\n",
        "model_rp.to(device)\n",
        "model_rp.eval()  # set to eval mode if you're using it for inference\n"
      ],
      "metadata": {
        "id": "YQihpYjvlnu4",
        "outputId": "7a0758bc-b46b-4d83-8df7-d4a4391328ef",
        "colab": {
          "base_uri": "https://localhost:8080/"
        }
      },
      "execution_count": 33,
      "outputs": [
        {
          "output_type": "execute_result",
          "data": {
            "text/plain": [
              "DeepNN_WithChannelRP(\n",
              "  (conv1): Conv2d(3, 128, kernel_size=(3, 3), stride=(1, 1), padding=(1, 1))\n",
              "  (relu): ReLU()\n",
              "  (conv2): Conv2d(32, 64, kernel_size=(3, 3), stride=(1, 1), padding=(1, 1))\n",
              "  (conv3): Conv2d(64, 64, kernel_size=(3, 3), stride=(1, 1), padding=(1, 1))\n",
              "  (conv4): Conv2d(64, 32, kernel_size=(3, 3), stride=(1, 1), padding=(1, 1))\n",
              "  (pool): MaxPool2d(kernel_size=2, stride=2, padding=0, dilation=1, ceil_mode=False)\n",
              "  (classifier): Sequential(\n",
              "    (0): Linear(in_features=2048, out_features=512, bias=True)\n",
              "    (1): ReLU()\n",
              "    (2): Dropout(p=0.1, inplace=False)\n",
              "    (3): Linear(in_features=512, out_features=10, bias=True)\n",
              "  )\n",
              ")"
            ]
          },
          "metadata": {},
          "execution_count": 33
        }
      ]
    },
    {
      "cell_type": "code",
      "source": [
        "test(model_rp, test_loader, device='cuda')"
      ],
      "metadata": {
        "id": "VBm4dFjZq5vU",
        "outputId": "272446e1-7c9f-439f-8cd6-2d93b0caa738",
        "colab": {
          "base_uri": "https://localhost:8080/"
        }
      },
      "execution_count": 34,
      "outputs": [
        {
          "output_type": "stream",
          "name": "stdout",
          "text": [
            "Test Accuracy: 76.48%\n"
          ]
        },
        {
          "output_type": "execute_result",
          "data": {
            "text/plain": [
              "76.48"
            ]
          },
          "metadata": {},
          "execution_count": 34
        }
      ]
    },
    {
      "cell_type": "code",
      "source": [
        "total_params_deep = \"{:,}\".format(sum(p.numel() for p in nn_deep.parameters()))\n",
        "print(f\"DeepNN parameters: {total_params_deep}\")\n",
        "total_params_deep_rp = \"{:,}\".format(sum(p.numel() for p in model_rp.parameters()) )\n",
        "\n",
        "\n",
        "print(f\"DeepNN parameters: {total_params_deep_rp}\")"
      ],
      "metadata": {
        "id": "IwZ_oYZMw6ab",
        "outputId": "6a75aad8-1dd2-4d8e-9d75-153efaebb77f",
        "colab": {
          "base_uri": "https://localhost:8080/"
        }
      },
      "execution_count": 51,
      "outputs": [
        {
          "output_type": "stream",
          "name": "stdout",
          "text": [
            "DeepNN parameters: 1,186,986\n",
            "DeepNN parameters: 1,131,690\n"
          ]
        }
      ]
    },
    {
      "cell_type": "code",
      "source": [
        "import torch\n",
        "from torchvision import datasets, transforms\n",
        "from torch.utils.data import DataLoader, Subset\n",
        "import numpy as np\n",
        "import matplotlib.pyplot as plt\n",
        "\n",
        "# Load CIFAR-10 training set (first 500 images)\n",
        "transform = transforms.Compose([\n",
        "    transforms.ToTensor()\n",
        "])\n",
        "\n",
        "train_dataset = datasets.CIFAR10(root='./data', train=True, download=True, transform=transform)\n",
        "subset_indices = list(range(700))\n",
        "subset = Subset(train_dataset, subset_indices)\n",
        "loader = DataLoader(subset, batch_size=700, shuffle=False)\n",
        "\n",
        "# Get the first 700 images as a matrix\n",
        "for images, _ in loader:\n",
        "    # Flatten each image: from [B, 3, 32, 32] to [B, 3072]\n",
        "    images_flat = images.view(images.size(0), -1)\n",
        "    break\n",
        "\n",
        "# Convert to numpy array for SVD\n",
        "X = images_flat.numpy()\n",
        "X_mean = X - X.mean(axis=0)  # Center the data\n",
        "\n",
        "# Perform SVD\n",
        "U, S, Vt = np.linalg.svd(X_mean, full_matrices=False)\n",
        "\n",
        "\n"
      ],
      "metadata": {
        "id": "OzgOTA9-xxbO",
        "outputId": "bf423e36-4b62-4743-f898-b5e4c6963600",
        "colab": {
          "base_uri": "https://localhost:8080/",
          "height": 395
        }
      },
      "execution_count": 38,
      "outputs": [
        {
          "output_type": "display_data",
          "data": {
            "text/plain": [
              "<Figure size 800x400 with 1 Axes>"
            ],
            "image/png": "[encoded data removed]"
          },
          "metadata": {}
        }
      ]
    },
    {
      "cell_type": "code",
      "source": [
        "# Plot singular values\n",
        "plt.figure(figsize=(8, 4))\n",
        "plt.plot(np.cumsum(S)/np.sum(S), marker='o')\n",
        "plt.title('Singular Values of First 700 CIFAR-10 Training Images')\n",
        "plt.xlabel('Index')\n",
        "plt.ylabel('Magnitude')\n",
        "plt.xlim([-5,500])\n",
        "plt.grid(True)\n",
        "plt.tight_layout()\n",
        "\n",
        "plt.show()"
      ],
      "metadata": {
        "id": "tp3EqSp80UNv",
        "outputId": "55b9b114-95ce-45c4-c580-28690cc786c1",
        "colab": {
          "base_uri": "https://localhost:8080/",
          "height": 395
        }
      },
      "execution_count": 44,
      "outputs": [
        {
          "output_type": "display_data",
          "data": {
            "text/plain": [
              "<Figure size 800x400 with 1 Axes>"
            ],
            "image/png": "[encoded data removed]"
          },
          "metadata": {}
        }
      ]
    },
    {
      "cell_type": "code",
      "source": [
        "class RPConvNetSimple(nn.Module):\n",
        "    def __init__(self, input_dim=3072, projected_dim=1600, num_classes=10):\n",
        "        super().__init__()\n",
        "\n",
        "        # Random Projection\n",
        "        self.rp = nn.Linear(input_dim, projected_dim, bias=False)\n",
        "        torch.nn.init.normal_(self.rp.weight, std=1.0 / np.sqrt(input_dim))\n",
        "        self.rp.weight.requires_grad = False\n",
        "\n",
        "        self.relu = nn.ReLU()\n",
        "\n",
        "        # Convolutional block on top of [B, 16, 10, 10]\n",
        "        self.conv_block = nn.Sequential(\n",
        "            nn.Conv2d(16, 32, kernel_size=3, padding=1),  # [B, 32, 10, 10]\n",
        "            nn.ReLU(),\n",
        "            nn.MaxPool2d(2, 2),                          # [B, 32, 5, 5]\n",
        "            nn.Conv2d(32, 32, kernel_size=3, padding=1),  # [B, 32, 5, 5]\n",
        "            nn.ReLU(),\n",
        "            nn.Conv2d(32, 16, kernel_size=3, padding=1),  # [B, 16, 5, 5]\n",
        "            nn.ReLU()\n",
        "        )\n",
        "\n",
        "        self.classifier = nn.Sequential(\n",
        "            nn.Flatten(),                                 # [B, 16*5*5 = 400]\n",
        "            nn.Linear(400, 128),\n",
        "            nn.ReLU(),\n",
        "            nn.Linear(128, num_classes)\n",
        "        )\n",
        "\n",
        "    def forward(self, x):\n",
        "        x = x.view(x.size(0), -1)         # Flatten: [B, 3072]\n",
        "        x = self.rp(x)                    # Random projection: [B, 1024]\n",
        "        x = self.relu(x)\n",
        "        x = x.view(x.size(0), 4, 16, 16)   # Reshape for conv\n",
        "        x = self.conv_block(x)\n",
        "        x = self.classifier(x)\n",
        "        return x\n"
      ],
      "metadata": {
        "id": "UL1wRa7i2sGB"
      },
      "execution_count": 54,
      "outputs": []
    },
    {
      "cell_type": "code",
      "source": [],
      "metadata": {
        "id": "GOCSk8xZ_h_1"
      },
      "execution_count": null,
      "outputs": []
    }
  ],
  "metadata": {
    "kernelspec": {
      "display_name": "Python 3",
      "name": "python3"
    },
    "language_info": {
      "codemirror_mode": {
        "name": "ipython",
        "version": 3
      },
      "file_extension": ".py",
      "mimetype": "text/x-python",
      "name": "python",
      "nbconvert_exporter": "python",
      "pygments_lexer": "ipython3",
      "version": "3.10.12"
    },
    "colab": {
      "provenance": [],
      "gpuType": "T4"
    },
    "accelerator": "GPU"
  },
  "nbformat": 4,
  "nbformat_minor": 0
}